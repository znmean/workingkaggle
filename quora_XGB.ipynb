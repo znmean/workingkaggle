{
 "cells": [
  {
   "cell_type": "code",
   "execution_count": 1,
   "metadata": {
    "collapsed": true
   },
   "outputs": [],
   "source": [
    "%matplotlib notebook\n",
    "import pandas as pd\n",
    "import matplotlib.pyplot as plt\n",
    "import seaborn as sns\n",
    "import numpy as np\n",
    "import pickle\n",
    "\n",
    "from sklearn.feature_extraction.text import TfidfTransformer, TfidfVectorizer"
   ]
  },
  {
   "cell_type": "code",
   "execution_count": 2,
   "metadata": {
    "collapsed": true
   },
   "outputs": [],
   "source": [
    "df = pickle.load(open('quora_dist.pickle', 'rb'))"
   ]
  },
  {
   "cell_type": "code",
   "execution_count": 3,
   "metadata": {
    "collapsed": true
   },
   "outputs": [],
   "source": [
    "training_fields = ['tf_nonstop_dist','tfidf_nonstop_dist','tfidf_stop_dist','idf_stop_dist']"
   ]
  },
  {
   "cell_type": "markdown",
   "metadata": {},
   "source": [
    "## learn 4 features"
   ]
  },
  {
   "cell_type": "code",
   "execution_count": 4,
   "metadata": {
    "collapsed": false
   },
   "outputs": [],
   "source": [
    "from sklearn.linear_model import SGDClassifier\n",
    "from sklearn.model_selection import train_test_split\n",
    "from sklearn.metrics import log_loss\n",
    "clf = SGDClassifier(loss='log')"
   ]
  },
  {
   "cell_type": "code",
   "execution_count": 5,
   "metadata": {
    "collapsed": false
   },
   "outputs": [],
   "source": [
    "X_train, X_test, y_train, y_test = train_test_split(\n",
    "        df[training_fields], df['is_duplicate'], test_size=0.2, random_state=42)"
   ]
  },
  {
   "cell_type": "code",
   "execution_count": 6,
   "metadata": {
    "collapsed": false
   },
   "outputs": [
    {
     "data": {
      "text/plain": [
       "SGDClassifier(alpha=0.0001, average=False, class_weight=None, epsilon=0.1,\n",
       "       eta0=0.0, fit_intercept=True, l1_ratio=0.15,\n",
       "       learning_rate='optimal', loss='log', n_iter=5, n_jobs=1,\n",
       "       penalty='l2', power_t=0.5, random_state=None, shuffle=True,\n",
       "       verbose=0, warm_start=False)"
      ]
     },
     "execution_count": 6,
     "metadata": {},
     "output_type": "execute_result"
    }
   ],
   "source": [
    "clf.fit(X_train, y_train)"
   ]
  },
  {
   "cell_type": "code",
   "execution_count": 7,
   "metadata": {
    "collapsed": false
   },
   "outputs": [],
   "source": [
    "X_test['predict_proba'] = list(clf.predict_proba(X_test))"
   ]
  },
  {
   "cell_type": "code",
   "execution_count": 8,
   "metadata": {
    "collapsed": false
   },
   "outputs": [],
   "source": [
    "X_test['predict_proba'] = X_test['predict_proba'].apply(lambda x:x[1])"
   ]
  },
  {
   "cell_type": "code",
   "execution_count": 9,
   "metadata": {
    "collapsed": false,
    "scrolled": true
   },
   "outputs": [
    {
     "data": {
      "text/plain": [
       "0.568326964329676"
      ]
     },
     "execution_count": 9,
     "metadata": {},
     "output_type": "execute_result"
    }
   ],
   "source": [
    "log_loss(y_test, X_test['predict_proba'])"
   ]
  },
  {
   "cell_type": "markdown",
   "metadata": {},
   "source": [
    "# manual word share rate"
   ]
  },
  {
   "cell_type": "code",
   "execution_count": 10,
   "metadata": {
    "collapsed": true
   },
   "outputs": [],
   "source": [
    "train_df = df"
   ]
  },
  {
   "cell_type": "code",
   "execution_count": 11,
   "metadata": {
    "collapsed": false,
    "scrolled": false
   },
   "outputs": [
    {
     "data": {
      "application/javascript": [
       "/* Put everything inside the global mpl namespace */\n",
       "window.mpl = {};\n",
       "\n",
       "mpl.get_websocket_type = function() {\n",
       "    if (typeof(WebSocket) !== 'undefined') {\n",
       "        return WebSocket;\n",
       "    } else if (typeof(MozWebSocket) !== 'undefined') {\n",
       "        return MozWebSocket;\n",
       "    } else {\n",
       "        alert('Your browser does not have WebSocket support.' +\n",
       "              'Please try Chrome, Safari or Firefox ≥ 6. ' +\n",
       "              'Firefox 4 and 5 are also supported but you ' +\n",
       "              'have to enable WebSockets in about:config.');\n",
       "    };\n",
       "}\n",
       "\n",
       "mpl.figure = function(figure_id, websocket, ondownload, parent_element) {\n",
       "    this.id = figure_id;\n",
       "\n",
       "    this.ws = websocket;\n",
       "\n",
       "    this.supports_binary = (this.ws.binaryType != undefined);\n",
       "\n",
       "    if (!this.supports_binary) {\n",
       "        var warnings = document.getElementById(\"mpl-warnings\");\n",
       "        if (warnings) {\n",
       "            warnings.style.display = 'block';\n",
       "            warnings.textContent = (\n",
       "                \"This browser does not support binary websocket messages. \" +\n",
       "                    \"Performance may be slow.\");\n",
       "        }\n",
       "    }\n",
       "\n",
       "    this.imageObj = new Image();\n",
       "\n",
       "    this.context = undefined;\n",
       "    this.message = undefined;\n",
       "    this.canvas = undefined;\n",
       "    this.rubberband_canvas = undefined;\n",
       "    this.rubberband_context = undefined;\n",
       "    this.format_dropdown = undefined;\n",
       "\n",
       "    this.image_mode = 'full';\n",
       "\n",
       "    this.root = $('<div/>');\n",
       "    this._root_extra_style(this.root)\n",
       "    this.root.attr('style', 'display: inline-block');\n",
       "\n",
       "    $(parent_element).append(this.root);\n",
       "\n",
       "    this._init_header(this);\n",
       "    this._init_canvas(this);\n",
       "    this._init_toolbar(this);\n",
       "\n",
       "    var fig = this;\n",
       "\n",
       "    this.waiting = false;\n",
       "\n",
       "    this.ws.onopen =  function () {\n",
       "            fig.send_message(\"supports_binary\", {value: fig.supports_binary});\n",
       "            fig.send_message(\"send_image_mode\", {});\n",
       "            fig.send_message(\"refresh\", {});\n",
       "        }\n",
       "\n",
       "    this.imageObj.onload = function() {\n",
       "            if (fig.image_mode == 'full') {\n",
       "                // Full images could contain transparency (where diff images\n",
       "                // almost always do), so we need to clear the canvas so that\n",
       "                // there is no ghosting.\n",
       "                fig.context.clearRect(0, 0, fig.canvas.width, fig.canvas.height);\n",
       "            }\n",
       "            fig.context.drawImage(fig.imageObj, 0, 0);\n",
       "        };\n",
       "\n",
       "    this.imageObj.onunload = function() {\n",
       "        this.ws.close();\n",
       "    }\n",
       "\n",
       "    this.ws.onmessage = this._make_on_message_function(this);\n",
       "\n",
       "    this.ondownload = ondownload;\n",
       "}\n",
       "\n",
       "mpl.figure.prototype._init_header = function() {\n",
       "    var titlebar = $(\n",
       "        '<div class=\"ui-dialog-titlebar ui-widget-header ui-corner-all ' +\n",
       "        'ui-helper-clearfix\"/>');\n",
       "    var titletext = $(\n",
       "        '<div class=\"ui-dialog-title\" style=\"width: 100%; ' +\n",
       "        'text-align: center; padding: 3px;\"/>');\n",
       "    titlebar.append(titletext)\n",
       "    this.root.append(titlebar);\n",
       "    this.header = titletext[0];\n",
       "}\n",
       "\n",
       "\n",
       "\n",
       "mpl.figure.prototype._canvas_extra_style = function(canvas_div) {\n",
       "\n",
       "}\n",
       "\n",
       "\n",
       "mpl.figure.prototype._root_extra_style = function(canvas_div) {\n",
       "\n",
       "}\n",
       "\n",
       "mpl.figure.prototype._init_canvas = function() {\n",
       "    var fig = this;\n",
       "\n",
       "    var canvas_div = $('<div/>');\n",
       "\n",
       "    canvas_div.attr('style', 'position: relative; clear: both; outline: 0');\n",
       "\n",
       "    function canvas_keyboard_event(event) {\n",
       "        return fig.key_event(event, event['data']);\n",
       "    }\n",
       "\n",
       "    canvas_div.keydown('key_press', canvas_keyboard_event);\n",
       "    canvas_div.keyup('key_release', canvas_keyboard_event);\n",
       "    this.canvas_div = canvas_div\n",
       "    this._canvas_extra_style(canvas_div)\n",
       "    this.root.append(canvas_div);\n",
       "\n",
       "    var canvas = $('<canvas/>');\n",
       "    canvas.addClass('mpl-canvas');\n",
       "    canvas.attr('style', \"left: 0; top: 0; z-index: 0; outline: 0\")\n",
       "\n",
       "    this.canvas = canvas[0];\n",
       "    this.context = canvas[0].getContext(\"2d\");\n",
       "\n",
       "    var rubberband = $('<canvas/>');\n",
       "    rubberband.attr('style', \"position: absolute; left: 0; top: 0; z-index: 1;\")\n",
       "\n",
       "    var pass_mouse_events = true;\n",
       "\n",
       "    canvas_div.resizable({\n",
       "        start: function(event, ui) {\n",
       "            pass_mouse_events = false;\n",
       "        },\n",
       "        resize: function(event, ui) {\n",
       "            fig.request_resize(ui.size.width, ui.size.height);\n",
       "        },\n",
       "        stop: function(event, ui) {\n",
       "            pass_mouse_events = true;\n",
       "            fig.request_resize(ui.size.width, ui.size.height);\n",
       "        },\n",
       "    });\n",
       "\n",
       "    function mouse_event_fn(event) {\n",
       "        if (pass_mouse_events)\n",
       "            return fig.mouse_event(event, event['data']);\n",
       "    }\n",
       "\n",
       "    rubberband.mousedown('button_press', mouse_event_fn);\n",
       "    rubberband.mouseup('button_release', mouse_event_fn);\n",
       "    // Throttle sequential mouse events to 1 every 20ms.\n",
       "    rubberband.mousemove('motion_notify', mouse_event_fn);\n",
       "\n",
       "    rubberband.mouseenter('figure_enter', mouse_event_fn);\n",
       "    rubberband.mouseleave('figure_leave', mouse_event_fn);\n",
       "\n",
       "    canvas_div.on(\"wheel\", function (event) {\n",
       "        event = event.originalEvent;\n",
       "        event['data'] = 'scroll'\n",
       "        if (event.deltaY < 0) {\n",
       "            event.step = 1;\n",
       "        } else {\n",
       "            event.step = -1;\n",
       "        }\n",
       "        mouse_event_fn(event);\n",
       "    });\n",
       "\n",
       "    canvas_div.append(canvas);\n",
       "    canvas_div.append(rubberband);\n",
       "\n",
       "    this.rubberband = rubberband;\n",
       "    this.rubberband_canvas = rubberband[0];\n",
       "    this.rubberband_context = rubberband[0].getContext(\"2d\");\n",
       "    this.rubberband_context.strokeStyle = \"#000000\";\n",
       "\n",
       "    this._resize_canvas = function(width, height) {\n",
       "        // Keep the size of the canvas, canvas container, and rubber band\n",
       "        // canvas in synch.\n",
       "        canvas_div.css('width', width)\n",
       "        canvas_div.css('height', height)\n",
       "\n",
       "        canvas.attr('width', width);\n",
       "        canvas.attr('height', height);\n",
       "\n",
       "        rubberband.attr('width', width);\n",
       "        rubberband.attr('height', height);\n",
       "    }\n",
       "\n",
       "    // Set the figure to an initial 600x600px, this will subsequently be updated\n",
       "    // upon first draw.\n",
       "    this._resize_canvas(600, 600);\n",
       "\n",
       "    // Disable right mouse context menu.\n",
       "    $(this.rubberband_canvas).bind(\"contextmenu\",function(e){\n",
       "        return false;\n",
       "    });\n",
       "\n",
       "    function set_focus () {\n",
       "        canvas.focus();\n",
       "        canvas_div.focus();\n",
       "    }\n",
       "\n",
       "    window.setTimeout(set_focus, 100);\n",
       "}\n",
       "\n",
       "mpl.figure.prototype._init_toolbar = function() {\n",
       "    var fig = this;\n",
       "\n",
       "    var nav_element = $('<div/>')\n",
       "    nav_element.attr('style', 'width: 100%');\n",
       "    this.root.append(nav_element);\n",
       "\n",
       "    // Define a callback function for later on.\n",
       "    function toolbar_event(event) {\n",
       "        return fig.toolbar_button_onclick(event['data']);\n",
       "    }\n",
       "    function toolbar_mouse_event(event) {\n",
       "        return fig.toolbar_button_onmouseover(event['data']);\n",
       "    }\n",
       "\n",
       "    for(var toolbar_ind in mpl.toolbar_items) {\n",
       "        var name = mpl.toolbar_items[toolbar_ind][0];\n",
       "        var tooltip = mpl.toolbar_items[toolbar_ind][1];\n",
       "        var image = mpl.toolbar_items[toolbar_ind][2];\n",
       "        var method_name = mpl.toolbar_items[toolbar_ind][3];\n",
       "\n",
       "        if (!name) {\n",
       "            // put a spacer in here.\n",
       "            continue;\n",
       "        }\n",
       "        var button = $('<button/>');\n",
       "        button.addClass('ui-button ui-widget ui-state-default ui-corner-all ' +\n",
       "                        'ui-button-icon-only');\n",
       "        button.attr('role', 'button');\n",
       "        button.attr('aria-disabled', 'false');\n",
       "        button.click(method_name, toolbar_event);\n",
       "        button.mouseover(tooltip, toolbar_mouse_event);\n",
       "\n",
       "        var icon_img = $('<span/>');\n",
       "        icon_img.addClass('ui-button-icon-primary ui-icon');\n",
       "        icon_img.addClass(image);\n",
       "        icon_img.addClass('ui-corner-all');\n",
       "\n",
       "        var tooltip_span = $('<span/>');\n",
       "        tooltip_span.addClass('ui-button-text');\n",
       "        tooltip_span.html(tooltip);\n",
       "\n",
       "        button.append(icon_img);\n",
       "        button.append(tooltip_span);\n",
       "\n",
       "        nav_element.append(button);\n",
       "    }\n",
       "\n",
       "    var fmt_picker_span = $('<span/>');\n",
       "\n",
       "    var fmt_picker = $('<select/>');\n",
       "    fmt_picker.addClass('mpl-toolbar-option ui-widget ui-widget-content');\n",
       "    fmt_picker_span.append(fmt_picker);\n",
       "    nav_element.append(fmt_picker_span);\n",
       "    this.format_dropdown = fmt_picker[0];\n",
       "\n",
       "    for (var ind in mpl.extensions) {\n",
       "        var fmt = mpl.extensions[ind];\n",
       "        var option = $(\n",
       "            '<option/>', {selected: fmt === mpl.default_extension}).html(fmt);\n",
       "        fmt_picker.append(option)\n",
       "    }\n",
       "\n",
       "    // Add hover states to the ui-buttons\n",
       "    $( \".ui-button\" ).hover(\n",
       "        function() { $(this).addClass(\"ui-state-hover\");},\n",
       "        function() { $(this).removeClass(\"ui-state-hover\");}\n",
       "    );\n",
       "\n",
       "    var status_bar = $('<span class=\"mpl-message\"/>');\n",
       "    nav_element.append(status_bar);\n",
       "    this.message = status_bar[0];\n",
       "}\n",
       "\n",
       "mpl.figure.prototype.request_resize = function(x_pixels, y_pixels) {\n",
       "    // Request matplotlib to resize the figure. Matplotlib will then trigger a resize in the client,\n",
       "    // which will in turn request a refresh of the image.\n",
       "    this.send_message('resize', {'width': x_pixels, 'height': y_pixels});\n",
       "}\n",
       "\n",
       "mpl.figure.prototype.send_message = function(type, properties) {\n",
       "    properties['type'] = type;\n",
       "    properties['figure_id'] = this.id;\n",
       "    this.ws.send(JSON.stringify(properties));\n",
       "}\n",
       "\n",
       "mpl.figure.prototype.send_draw_message = function() {\n",
       "    if (!this.waiting) {\n",
       "        this.waiting = true;\n",
       "        this.ws.send(JSON.stringify({type: \"draw\", figure_id: this.id}));\n",
       "    }\n",
       "}\n",
       "\n",
       "\n",
       "mpl.figure.prototype.handle_save = function(fig, msg) {\n",
       "    var format_dropdown = fig.format_dropdown;\n",
       "    var format = format_dropdown.options[format_dropdown.selectedIndex].value;\n",
       "    fig.ondownload(fig, format);\n",
       "}\n",
       "\n",
       "\n",
       "mpl.figure.prototype.handle_resize = function(fig, msg) {\n",
       "    var size = msg['size'];\n",
       "    if (size[0] != fig.canvas.width || size[1] != fig.canvas.height) {\n",
       "        fig._resize_canvas(size[0], size[1]);\n",
       "        fig.send_message(\"refresh\", {});\n",
       "    };\n",
       "}\n",
       "\n",
       "mpl.figure.prototype.handle_rubberband = function(fig, msg) {\n",
       "    var x0 = msg['x0'];\n",
       "    var y0 = fig.canvas.height - msg['y0'];\n",
       "    var x1 = msg['x1'];\n",
       "    var y1 = fig.canvas.height - msg['y1'];\n",
       "    x0 = Math.floor(x0) + 0.5;\n",
       "    y0 = Math.floor(y0) + 0.5;\n",
       "    x1 = Math.floor(x1) + 0.5;\n",
       "    y1 = Math.floor(y1) + 0.5;\n",
       "    var min_x = Math.min(x0, x1);\n",
       "    var min_y = Math.min(y0, y1);\n",
       "    var width = Math.abs(x1 - x0);\n",
       "    var height = Math.abs(y1 - y0);\n",
       "\n",
       "    fig.rubberband_context.clearRect(\n",
       "        0, 0, fig.canvas.width, fig.canvas.height);\n",
       "\n",
       "    fig.rubberband_context.strokeRect(min_x, min_y, width, height);\n",
       "}\n",
       "\n",
       "mpl.figure.prototype.handle_figure_label = function(fig, msg) {\n",
       "    // Updates the figure title.\n",
       "    fig.header.textContent = msg['label'];\n",
       "}\n",
       "\n",
       "mpl.figure.prototype.handle_cursor = function(fig, msg) {\n",
       "    var cursor = msg['cursor'];\n",
       "    switch(cursor)\n",
       "    {\n",
       "    case 0:\n",
       "        cursor = 'pointer';\n",
       "        break;\n",
       "    case 1:\n",
       "        cursor = 'default';\n",
       "        break;\n",
       "    case 2:\n",
       "        cursor = 'crosshair';\n",
       "        break;\n",
       "    case 3:\n",
       "        cursor = 'move';\n",
       "        break;\n",
       "    }\n",
       "    fig.rubberband_canvas.style.cursor = cursor;\n",
       "}\n",
       "\n",
       "mpl.figure.prototype.handle_message = function(fig, msg) {\n",
       "    fig.message.textContent = msg['message'];\n",
       "}\n",
       "\n",
       "mpl.figure.prototype.handle_draw = function(fig, msg) {\n",
       "    // Request the server to send over a new figure.\n",
       "    fig.send_draw_message();\n",
       "}\n",
       "\n",
       "mpl.figure.prototype.handle_image_mode = function(fig, msg) {\n",
       "    fig.image_mode = msg['mode'];\n",
       "}\n",
       "\n",
       "mpl.figure.prototype.updated_canvas_event = function() {\n",
       "    // Called whenever the canvas gets updated.\n",
       "    this.send_message(\"ack\", {});\n",
       "}\n",
       "\n",
       "// A function to construct a web socket function for onmessage handling.\n",
       "// Called in the figure constructor.\n",
       "mpl.figure.prototype._make_on_message_function = function(fig) {\n",
       "    return function socket_on_message(evt) {\n",
       "        if (evt.data instanceof Blob) {\n",
       "            /* FIXME: We get \"Resource interpreted as Image but\n",
       "             * transferred with MIME type text/plain:\" errors on\n",
       "             * Chrome.  But how to set the MIME type?  It doesn't seem\n",
       "             * to be part of the websocket stream */\n",
       "            evt.data.type = \"image/png\";\n",
       "\n",
       "            /* Free the memory for the previous frames */\n",
       "            if (fig.imageObj.src) {\n",
       "                (window.URL || window.webkitURL).revokeObjectURL(\n",
       "                    fig.imageObj.src);\n",
       "            }\n",
       "\n",
       "            fig.imageObj.src = (window.URL || window.webkitURL).createObjectURL(\n",
       "                evt.data);\n",
       "            fig.updated_canvas_event();\n",
       "            fig.waiting = false;\n",
       "            return;\n",
       "        }\n",
       "        else if (typeof evt.data === 'string' && evt.data.slice(0, 21) == \"data:image/png;base64\") {\n",
       "            fig.imageObj.src = evt.data;\n",
       "            fig.updated_canvas_event();\n",
       "            fig.waiting = false;\n",
       "            return;\n",
       "        }\n",
       "\n",
       "        var msg = JSON.parse(evt.data);\n",
       "        var msg_type = msg['type'];\n",
       "\n",
       "        // Call the  \"handle_{type}\" callback, which takes\n",
       "        // the figure and JSON message as its only arguments.\n",
       "        try {\n",
       "            var callback = fig[\"handle_\" + msg_type];\n",
       "        } catch (e) {\n",
       "            console.log(\"No handler for the '\" + msg_type + \"' message type: \", msg);\n",
       "            return;\n",
       "        }\n",
       "\n",
       "        if (callback) {\n",
       "            try {\n",
       "                // console.log(\"Handling '\" + msg_type + \"' message: \", msg);\n",
       "                callback(fig, msg);\n",
       "            } catch (e) {\n",
       "                console.log(\"Exception inside the 'handler_\" + msg_type + \"' callback:\", e, e.stack, msg);\n",
       "            }\n",
       "        }\n",
       "    };\n",
       "}\n",
       "\n",
       "// from http://stackoverflow.com/questions/1114465/getting-mouse-location-in-canvas\n",
       "mpl.findpos = function(e) {\n",
       "    //this section is from http://www.quirksmode.org/js/events_properties.html\n",
       "    var targ;\n",
       "    if (!e)\n",
       "        e = window.event;\n",
       "    if (e.target)\n",
       "        targ = e.target;\n",
       "    else if (e.srcElement)\n",
       "        targ = e.srcElement;\n",
       "    if (targ.nodeType == 3) // defeat Safari bug\n",
       "        targ = targ.parentNode;\n",
       "\n",
       "    // jQuery normalizes the pageX and pageY\n",
       "    // pageX,Y are the mouse positions relative to the document\n",
       "    // offset() returns the position of the element relative to the document\n",
       "    var x = e.pageX - $(targ).offset().left;\n",
       "    var y = e.pageY - $(targ).offset().top;\n",
       "\n",
       "    return {\"x\": x, \"y\": y};\n",
       "};\n",
       "\n",
       "/*\n",
       " * return a copy of an object with only non-object keys\n",
       " * we need this to avoid circular references\n",
       " * http://stackoverflow.com/a/24161582/3208463\n",
       " */\n",
       "function simpleKeys (original) {\n",
       "  return Object.keys(original).reduce(function (obj, key) {\n",
       "    if (typeof original[key] !== 'object')\n",
       "        obj[key] = original[key]\n",
       "    return obj;\n",
       "  }, {});\n",
       "}\n",
       "\n",
       "mpl.figure.prototype.mouse_event = function(event, name) {\n",
       "    var canvas_pos = mpl.findpos(event)\n",
       "\n",
       "    if (name === 'button_press')\n",
       "    {\n",
       "        this.canvas.focus();\n",
       "        this.canvas_div.focus();\n",
       "    }\n",
       "\n",
       "    var x = canvas_pos.x;\n",
       "    var y = canvas_pos.y;\n",
       "\n",
       "    this.send_message(name, {x: x, y: y, button: event.button,\n",
       "                             step: event.step,\n",
       "                             guiEvent: simpleKeys(event)});\n",
       "\n",
       "    /* This prevents the web browser from automatically changing to\n",
       "     * the text insertion cursor when the button is pressed.  We want\n",
       "     * to control all of the cursor setting manually through the\n",
       "     * 'cursor' event from matplotlib */\n",
       "    event.preventDefault();\n",
       "    return false;\n",
       "}\n",
       "\n",
       "mpl.figure.prototype._key_event_extra = function(event, name) {\n",
       "    // Handle any extra behaviour associated with a key event\n",
       "}\n",
       "\n",
       "mpl.figure.prototype.key_event = function(event, name) {\n",
       "\n",
       "    // Prevent repeat events\n",
       "    if (name == 'key_press')\n",
       "    {\n",
       "        if (event.which === this._key)\n",
       "            return;\n",
       "        else\n",
       "            this._key = event.which;\n",
       "    }\n",
       "    if (name == 'key_release')\n",
       "        this._key = null;\n",
       "\n",
       "    var value = '';\n",
       "    if (event.ctrlKey && event.which != 17)\n",
       "        value += \"ctrl+\";\n",
       "    if (event.altKey && event.which != 18)\n",
       "        value += \"alt+\";\n",
       "    if (event.shiftKey && event.which != 16)\n",
       "        value += \"shift+\";\n",
       "\n",
       "    value += 'k';\n",
       "    value += event.which.toString();\n",
       "\n",
       "    this._key_event_extra(event, name);\n",
       "\n",
       "    this.send_message(name, {key: value,\n",
       "                             guiEvent: simpleKeys(event)});\n",
       "    return false;\n",
       "}\n",
       "\n",
       "mpl.figure.prototype.toolbar_button_onclick = function(name) {\n",
       "    if (name == 'download') {\n",
       "        this.handle_save(this, null);\n",
       "    } else {\n",
       "        this.send_message(\"toolbar_button\", {name: name});\n",
       "    }\n",
       "};\n",
       "\n",
       "mpl.figure.prototype.toolbar_button_onmouseover = function(tooltip) {\n",
       "    this.message.textContent = tooltip;\n",
       "};\n",
       "mpl.toolbar_items = [[\"Home\", \"Reset original view\", \"fa fa-home icon-home\", \"home\"], [\"Back\", \"Back to  previous view\", \"fa fa-arrow-left icon-arrow-left\", \"back\"], [\"Forward\", \"Forward to next view\", \"fa fa-arrow-right icon-arrow-right\", \"forward\"], [\"\", \"\", \"\", \"\"], [\"Pan\", \"Pan axes with left mouse, zoom with right\", \"fa fa-arrows icon-move\", \"pan\"], [\"Zoom\", \"Zoom to rectangle\", \"fa fa-square-o icon-check-empty\", \"zoom\"], [\"\", \"\", \"\", \"\"], [\"Download\", \"Download plot\", \"fa fa-floppy-o icon-save\", \"download\"]];\n",
       "\n",
       "mpl.extensions = [\"eps\", \"jpeg\", \"pdf\", \"png\", \"ps\", \"raw\", \"svg\", \"tif\"];\n",
       "\n",
       "mpl.default_extension = \"png\";var comm_websocket_adapter = function(comm) {\n",
       "    // Create a \"websocket\"-like object which calls the given IPython comm\n",
       "    // object with the appropriate methods. Currently this is a non binary\n",
       "    // socket, so there is still some room for performance tuning.\n",
       "    var ws = {};\n",
       "\n",
       "    ws.close = function() {\n",
       "        comm.close()\n",
       "    };\n",
       "    ws.send = function(m) {\n",
       "        //console.log('sending', m);\n",
       "        comm.send(m);\n",
       "    };\n",
       "    // Register the callback with on_msg.\n",
       "    comm.on_msg(function(msg) {\n",
       "        //console.log('receiving', msg['content']['data'], msg);\n",
       "        // Pass the mpl event to the overriden (by mpl) onmessage function.\n",
       "        ws.onmessage(msg['content']['data'])\n",
       "    });\n",
       "    return ws;\n",
       "}\n",
       "\n",
       "mpl.mpl_figure_comm = function(comm, msg) {\n",
       "    // This is the function which gets called when the mpl process\n",
       "    // starts-up an IPython Comm through the \"matplotlib\" channel.\n",
       "\n",
       "    var id = msg.content.data.id;\n",
       "    // Get hold of the div created by the display call when the Comm\n",
       "    // socket was opened in Python.\n",
       "    var element = $(\"#\" + id);\n",
       "    var ws_proxy = comm_websocket_adapter(comm)\n",
       "\n",
       "    function ondownload(figure, format) {\n",
       "        window.open(figure.imageObj.src);\n",
       "    }\n",
       "\n",
       "    var fig = new mpl.figure(id, ws_proxy,\n",
       "                           ondownload,\n",
       "                           element.get(0));\n",
       "\n",
       "    // Call onopen now - mpl needs it, as it is assuming we've passed it a real\n",
       "    // web socket which is closed, not our websocket->open comm proxy.\n",
       "    ws_proxy.onopen();\n",
       "\n",
       "    fig.parent_element = element.get(0);\n",
       "    fig.cell_info = mpl.find_output_cell(\"<div id='\" + id + \"'></div>\");\n",
       "    if (!fig.cell_info) {\n",
       "        console.error(\"Failed to find cell for figure\", id, fig);\n",
       "        return;\n",
       "    }\n",
       "\n",
       "    var output_index = fig.cell_info[2]\n",
       "    var cell = fig.cell_info[0];\n",
       "\n",
       "};\n",
       "\n",
       "mpl.figure.prototype.handle_close = function(fig, msg) {\n",
       "    fig.root.unbind('remove')\n",
       "\n",
       "    // Update the output cell to use the data from the current canvas.\n",
       "    fig.push_to_output();\n",
       "    var dataURL = fig.canvas.toDataURL();\n",
       "    // Re-enable the keyboard manager in IPython - without this line, in FF,\n",
       "    // the notebook keyboard shortcuts fail.\n",
       "    IPython.keyboard_manager.enable()\n",
       "    $(fig.parent_element).html('<img src=\"' + dataURL + '\">');\n",
       "    fig.close_ws(fig, msg);\n",
       "}\n",
       "\n",
       "mpl.figure.prototype.close_ws = function(fig, msg){\n",
       "    fig.send_message('closing', msg);\n",
       "    // fig.ws.close()\n",
       "}\n",
       "\n",
       "mpl.figure.prototype.push_to_output = function(remove_interactive) {\n",
       "    // Turn the data on the canvas into data in the output cell.\n",
       "    var dataURL = this.canvas.toDataURL();\n",
       "    this.cell_info[1]['text/html'] = '<img src=\"' + dataURL + '\">';\n",
       "}\n",
       "\n",
       "mpl.figure.prototype.updated_canvas_event = function() {\n",
       "    // Tell IPython that the notebook contents must change.\n",
       "    IPython.notebook.set_dirty(true);\n",
       "    this.send_message(\"ack\", {});\n",
       "    var fig = this;\n",
       "    // Wait a second, then push the new image to the DOM so\n",
       "    // that it is saved nicely (might be nice to debounce this).\n",
       "    setTimeout(function () { fig.push_to_output() }, 1000);\n",
       "}\n",
       "\n",
       "mpl.figure.prototype._init_toolbar = function() {\n",
       "    var fig = this;\n",
       "\n",
       "    var nav_element = $('<div/>')\n",
       "    nav_element.attr('style', 'width: 100%');\n",
       "    this.root.append(nav_element);\n",
       "\n",
       "    // Define a callback function for later on.\n",
       "    function toolbar_event(event) {\n",
       "        return fig.toolbar_button_onclick(event['data']);\n",
       "    }\n",
       "    function toolbar_mouse_event(event) {\n",
       "        return fig.toolbar_button_onmouseover(event['data']);\n",
       "    }\n",
       "\n",
       "    for(var toolbar_ind in mpl.toolbar_items){\n",
       "        var name = mpl.toolbar_items[toolbar_ind][0];\n",
       "        var tooltip = mpl.toolbar_items[toolbar_ind][1];\n",
       "        var image = mpl.toolbar_items[toolbar_ind][2];\n",
       "        var method_name = mpl.toolbar_items[toolbar_ind][3];\n",
       "\n",
       "        if (!name) { continue; };\n",
       "\n",
       "        var button = $('<button class=\"btn btn-default\" href=\"#\" title=\"' + name + '\"><i class=\"fa ' + image + ' fa-lg\"></i></button>');\n",
       "        button.click(method_name, toolbar_event);\n",
       "        button.mouseover(tooltip, toolbar_mouse_event);\n",
       "        nav_element.append(button);\n",
       "    }\n",
       "\n",
       "    // Add the status bar.\n",
       "    var status_bar = $('<span class=\"mpl-message\" style=\"text-align:right; float: right;\"/>');\n",
       "    nav_element.append(status_bar);\n",
       "    this.message = status_bar[0];\n",
       "\n",
       "    // Add the close button to the window.\n",
       "    var buttongrp = $('<div class=\"btn-group inline pull-right\"></div>');\n",
       "    var button = $('<button class=\"btn btn-mini btn-primary\" href=\"#\" title=\"Stop Interaction\"><i class=\"fa fa-power-off icon-remove icon-large\"></i></button>');\n",
       "    button.click(function (evt) { fig.handle_close(fig, {}); } );\n",
       "    button.mouseover('Stop Interaction', toolbar_mouse_event);\n",
       "    buttongrp.append(button);\n",
       "    var titlebar = this.root.find($('.ui-dialog-titlebar'));\n",
       "    titlebar.prepend(buttongrp);\n",
       "}\n",
       "\n",
       "mpl.figure.prototype._root_extra_style = function(el){\n",
       "    var fig = this\n",
       "    el.on(\"remove\", function(){\n",
       "\tfig.close_ws(fig, {});\n",
       "    });\n",
       "}\n",
       "\n",
       "mpl.figure.prototype._canvas_extra_style = function(el){\n",
       "    // this is important to make the div 'focusable\n",
       "    el.attr('tabindex', 0)\n",
       "    // reach out to IPython and tell the keyboard manager to turn it's self\n",
       "    // off when our div gets focus\n",
       "\n",
       "    // location in version 3\n",
       "    if (IPython.notebook.keyboard_manager) {\n",
       "        IPython.notebook.keyboard_manager.register_events(el);\n",
       "    }\n",
       "    else {\n",
       "        // location in version 2\n",
       "        IPython.keyboard_manager.register_events(el);\n",
       "    }\n",
       "\n",
       "}\n",
       "\n",
       "mpl.figure.prototype._key_event_extra = function(event, name) {\n",
       "    var manager = IPython.notebook.keyboard_manager;\n",
       "    if (!manager)\n",
       "        manager = IPython.keyboard_manager;\n",
       "\n",
       "    // Check for shift+enter\n",
       "    if (event.shiftKey && event.which == 13) {\n",
       "        this.canvas_div.blur();\n",
       "        event.shiftKey = false;\n",
       "        // Send a \"J\" for go to next cell\n",
       "        event.which = 74;\n",
       "        event.keyCode = 74;\n",
       "        manager.command_mode();\n",
       "        manager.handle_keydown(event);\n",
       "    }\n",
       "}\n",
       "\n",
       "mpl.figure.prototype.handle_save = function(fig, msg) {\n",
       "    fig.ondownload(fig, null);\n",
       "}\n",
       "\n",
       "\n",
       "mpl.find_output_cell = function(html_output) {\n",
       "    // Return the cell and output element which can be found *uniquely* in the notebook.\n",
       "    // Note - this is a bit hacky, but it is done because the \"notebook_saving.Notebook\"\n",
       "    // IPython event is triggered only after the cells have been serialised, which for\n",
       "    // our purposes (turning an active figure into a static one), is too late.\n",
       "    var cells = IPython.notebook.get_cells();\n",
       "    var ncells = cells.length;\n",
       "    for (var i=0; i<ncells; i++) {\n",
       "        var cell = cells[i];\n",
       "        if (cell.cell_type === 'code'){\n",
       "            for (var j=0; j<cell.output_area.outputs.length; j++) {\n",
       "                var data = cell.output_area.outputs[j];\n",
       "                if (data.data) {\n",
       "                    // IPython >= 3 moved mimebundle to data attribute of output\n",
       "                    data = data.data;\n",
       "                }\n",
       "                if (data['text/html'] == html_output) {\n",
       "                    return [cell, data, j];\n",
       "                }\n",
       "            }\n",
       "        }\n",
       "    }\n",
       "}\n",
       "\n",
       "// Register the function which deals with the matplotlib target/channel.\n",
       "// The kernel may be null if the page has been refreshed.\n",
       "if (IPython.notebook.kernel != null) {\n",
       "    IPython.notebook.kernel.comm_manager.register_target('matplotlib', mpl.mpl_figure_comm);\n",
       "}\n"
      ],
      "text/plain": [
       "<IPython.core.display.Javascript object>"
      ]
     },
     "metadata": {},
     "output_type": "display_data"
    },
    {
     "data": {
      "text/html": [
       "<img src=\"data:image/png;base64,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\">"
      ],
      "text/plain": [
       "<IPython.core.display.HTML object>"
      ]
     },
     "metadata": {},
     "output_type": "display_data"
    },
    {
     "data": {
      "text/plain": [
       "<matplotlib.text.Text at 0x7f2375fb2240>"
      ]
     },
     "execution_count": 11,
     "metadata": {},
     "output_type": "execute_result"
    }
   ],
   "source": [
    "from nltk.corpus import stopwords\n",
    "\n",
    "stops = set(stopwords.words(\"english\"))\n",
    "df_train = train_df\n",
    "\n",
    "def word_match_share(row):\n",
    "    q1words = {}\n",
    "    q2words = {}\n",
    "    for word in str(row['question1']).lower().split():\n",
    "        if word not in stops:\n",
    "            q1words[word] = 1\n",
    "    for word in str(row['question2']).lower().split():\n",
    "        if word not in stops:\n",
    "            q2words[word] = 1\n",
    "    if len(q1words) == 0 or len(q2words) == 0:\n",
    "        # The computer-generated chaff includes a few questions that are nothing but stopwords\n",
    "        return 0\n",
    "    shared_words_in_q1 = [w for w in q1words.keys() if w in q2words]\n",
    "    shared_words_in_q2 = [w for w in q2words.keys() if w in q1words]\n",
    "    R = (len(shared_words_in_q1) + len(shared_words_in_q2))/(len(q1words) + len(q2words))\n",
    "    return R\n",
    "\n",
    "plt.figure(figsize=(15, 5))\n",
    "train_word_match = df_train.apply(word_match_share, axis=1, raw=True)\n",
    "plt.hist(train_word_match[df_train['is_duplicate'] == 0], bins=20, normed=True, label='Not Duplicate')\n",
    "plt.hist(train_word_match[df_train['is_duplicate'] == 1], bins=20, normed=True, alpha=0.7, label='Duplicate')\n",
    "plt.legend()\n",
    "plt.title('Label distribution over word_match_share', fontsize=15)\n",
    "plt.xlabel('word_match_share', fontsize=15)"
   ]
  },
  {
   "cell_type": "code",
   "execution_count": 12,
   "metadata": {
    "collapsed": false
   },
   "outputs": [],
   "source": [
    "from collections import Counter\n",
    "\n",
    "# If a word appears only once, we ignore it completely (likely a typo)\n",
    "# Epsilon defines a smoothing constant, which makes the effect of extremely rare words smaller\n",
    "def get_weight(count, eps=10000, min_count=2):\n",
    "    if count < min_count:\n",
    "        return 0\n",
    "    else:\n",
    "        return 1 / (count + eps)\n",
    "\n",
    "train_qs = pd.Series(df_train['question1'].tolist() + df_train['question2'].tolist()).astype(str)\n",
    "eps = 5000 \n",
    "words = (\" \".join(train_qs)).lower().split()\n",
    "counts = Counter(words)\n",
    "weights = {word: get_weight(count) for word, count in counts.items()}"
   ]
  },
  {
   "cell_type": "code",
   "execution_count": 13,
   "metadata": {
    "collapsed": true
   },
   "outputs": [],
   "source": [
    "def tfidf_word_match_share(row):\n",
    "    q1words = {}\n",
    "    q2words = {}\n",
    "    for word in str(row['question1']).lower().split():\n",
    "        if word not in stops:\n",
    "            q1words[word] = 1\n",
    "    for word in str(row['question2']).lower().split():\n",
    "        if word not in stops:\n",
    "            q2words[word] = 1\n",
    "    if len(q1words) == 0 or len(q2words) == 0:\n",
    "        # The computer-generated chaff includes a few questions that are nothing but stopwords\n",
    "        return 0\n",
    "    \n",
    "    shared_weights = [weights.get(w, 0) for w in q1words.keys() if w in q2words] + [weights.get(w, 0) for w in q2words.keys() if w in q1words]\n",
    "    total_weights = [weights.get(w, 0) for w in q1words] + [weights.get(w, 0) for w in q2words]\n",
    "    \n",
    "    R = np.sum(shared_weights) / np.sum(total_weights)\n",
    "    return R"
   ]
  },
  {
   "cell_type": "code",
   "execution_count": 15,
   "metadata": {
    "collapsed": true
   },
   "outputs": [],
   "source": [
    "tfidf_train_word_match = df_train.apply(tfidf_word_match_share, axis=1, raw=True)\n",
    "train_df['word_match'] = train_word_match\n",
    "train_df['tfidf_word_match'] = tfidf_train_word_match"
   ]
  },
  {
   "cell_type": "markdown",
   "metadata": {},
   "source": [
    "## doing xgboost - old features"
   ]
  },
  {
   "cell_type": "code",
   "execution_count": 24,
   "metadata": {
    "collapsed": true
   },
   "outputs": [],
   "source": [
    "X_train, X_test, y_train, y_test = train_test_split(\n",
    "        df, df['is_duplicate'], test_size=0.2, random_state=42)"
   ]
  },
  {
   "cell_type": "code",
   "execution_count": 18,
   "metadata": {
    "collapsed": false
   },
   "outputs": [
    {
     "name": "stderr",
     "output_type": "stream",
     "text": [
      "/root/anaconda3/lib/python3.5/site-packages/sklearn/cross_validation.py:44: DeprecationWarning: This module was deprecated in version 0.18 in favor of the model_selection module into which all the refactored classes and functions are moved. Also note that the interface of the new CV iterators are different from that of this module. This module will be removed in 0.20.\n",
      "  \"This module will be removed in 0.20.\", DeprecationWarning)\n"
     ]
    }
   ],
   "source": [
    "import xgboost as xgb\n",
    "# Set our parameters for xgboost\n",
    "params = {}\n",
    "params['objective'] = 'binary:logistic'\n",
    "params['eval_metric'] = 'logloss'\n",
    "params['eta'] = 0.02\n",
    "params['max_depth'] = 5"
   ]
  },
  {
   "cell_type": "code",
   "execution_count": 19,
   "metadata": {
    "collapsed": true
   },
   "outputs": [],
   "source": [
    "#training_fields = ['tf_nonstop_dist','tfidf_nonstop_dist','tfidf_stop_dist','idf_stop_dist','word_match','tfidf_word_match']\n",
    "training_fields = ['tf_nonstop_dist','tfidf_nonstop_dist','tfidf_stop_dist','idf_stop_dist']\n",
    "#training_fields = ['word_match','tfidf_word_match']"
   ]
  },
  {
   "cell_type": "code",
   "execution_count": 20,
   "metadata": {
    "collapsed": false,
    "scrolled": false
   },
   "outputs": [
    {
     "name": "stdout",
     "output_type": "stream",
     "text": [
      "[0]\ttrain-logloss:0.687635\tvalid-logloss:0.68772\n",
      "Multiple eval metrics have been passed: 'valid-logloss' will be used for early stopping.\n",
      "\n",
      "Will train until valid-logloss hasn't improved in 50 rounds.\n",
      "[10]\ttrain-logloss:0.642643\tvalid-logloss:0.643509\n",
      "[20]\ttrain-logloss:0.610784\tvalid-logloss:0.612301\n",
      "[30]\ttrain-logloss:0.587722\tvalid-logloss:0.589743\n",
      "[40]\ttrain-logloss:0.57046\tvalid-logloss:0.572922\n",
      "[50]\ttrain-logloss:0.557305\tvalid-logloss:0.560179\n",
      "[60]\ttrain-logloss:0.547094\tvalid-logloss:0.550346\n",
      "[70]\ttrain-logloss:0.539149\tvalid-logloss:0.542741\n",
      "[80]\ttrain-logloss:0.532921\tvalid-logloss:0.536833\n",
      "[90]\ttrain-logloss:0.527939\tvalid-logloss:0.532137\n",
      "[100]\ttrain-logloss:0.523949\tvalid-logloss:0.528385\n",
      "[110]\ttrain-logloss:0.52075\tvalid-logloss:0.525399\n",
      "[120]\ttrain-logloss:0.518145\tvalid-logloss:0.522974\n",
      "[130]\ttrain-logloss:0.516073\tvalid-logloss:0.521045\n",
      "[140]\ttrain-logloss:0.514301\tvalid-logloss:0.519369\n",
      "[150]\ttrain-logloss:0.51286\tvalid-logloss:0.518019\n",
      "[160]\ttrain-logloss:0.511606\tvalid-logloss:0.516865\n",
      "[170]\ttrain-logloss:0.510568\tvalid-logloss:0.515925\n",
      "[180]\ttrain-logloss:0.509716\tvalid-logloss:0.51515\n",
      "[190]\ttrain-logloss:0.509041\tvalid-logloss:0.51456\n"
     ]
    }
   ],
   "source": [
    "d_train = xgb.DMatrix(X_train[training_fields], label=y_train)\n",
    "d_valid = xgb.DMatrix(X_test[training_fields], label=y_test)\n",
    "watchlist = [(d_train, 'train'), (d_valid, 'valid')]\n",
    "\n",
    "bst = xgb.train(params, d_train, 200, watchlist, early_stopping_rounds=50, verbose_eval=10)"
   ]
  },
  {
   "cell_type": "markdown",
   "metadata": {},
   "source": [
    "## doing xgboost - new features"
   ]
  },
  {
   "cell_type": "code",
   "execution_count": 21,
   "metadata": {
    "collapsed": false
   },
   "outputs": [],
   "source": [
    "import xgboost as xgb\n",
    "# Set our parameters for xgboost\n",
    "params = {}\n",
    "params['objective'] = 'binary:logistic'\n",
    "params['eval_metric'] = 'logloss'\n",
    "params['eta'] = 0.02\n",
    "params['max_depth'] = 5"
   ]
  },
  {
   "cell_type": "code",
   "execution_count": 22,
   "metadata": {
    "collapsed": true
   },
   "outputs": [],
   "source": [
    "#training_fields = ['tf_nonstop_dist','tfidf_nonstop_dist','tfidf_stop_dist','idf_stop_dist','word_match','tfidf_word_match']\n",
    "#training_fields = ['tf_nonstop_dist','tfidf_nonstop_dist','tfidf_stop_dist','idf_stop_dist']\n",
    "training_fields = ['word_match','tfidf_word_match']"
   ]
  },
  {
   "cell_type": "code",
   "execution_count": 25,
   "metadata": {
    "collapsed": false,
    "scrolled": false
   },
   "outputs": [
    {
     "name": "stdout",
     "output_type": "stream",
     "text": [
      "[0]\ttrain-logloss:0.68614\tvalid-logloss:0.686209\n",
      "Multiple eval metrics have been passed: 'valid-logloss' will be used for early stopping.\n",
      "\n",
      "Will train until valid-logloss hasn't improved in 50 rounds.\n",
      "[10]\ttrain-logloss:0.629014\tvalid-logloss:0.629663\n",
      "[20]\ttrain-logloss:0.588624\tvalid-logloss:0.589709\n",
      "[30]\ttrain-logloss:0.559018\tvalid-logloss:0.560433\n",
      "[40]\ttrain-logloss:0.536829\tvalid-logloss:0.538495\n",
      "[50]\ttrain-logloss:0.519947\tvalid-logloss:0.521819\n",
      "[60]\ttrain-logloss:0.50695\tvalid-logloss:0.50901\n",
      "[70]\ttrain-logloss:0.496703\tvalid-logloss:0.49892\n",
      "[80]\ttrain-logloss:0.488792\tvalid-logloss:0.49115\n",
      "[90]\ttrain-logloss:0.482646\tvalid-logloss:0.485093\n"
     ]
    }
   ],
   "source": [
    "d_train = xgb.DMatrix(X_train[training_fields], label=y_train)\n",
    "d_valid = xgb.DMatrix(X_test[training_fields], label=y_test)\n",
    "watchlist = [(d_train, 'train'), (d_valid, 'valid')]\n",
    "\n",
    "bst = xgb.train(params, d_train, 100, watchlist, early_stopping_rounds=50, verbose_eval=10)"
   ]
  },
  {
   "cell_type": "markdown",
   "metadata": {},
   "source": [
    "## sampling data"
   ]
  },
  {
   "cell_type": "code",
   "execution_count": 26,
   "metadata": {
    "collapsed": true
   },
   "outputs": [],
   "source": [
    "sampling_target = 0.175"
   ]
  },
  {
   "cell_type": "code",
   "execution_count": 27,
   "metadata": {
    "collapsed": false
   },
   "outputs": [
    {
     "name": "stdout",
     "output_type": "stream",
     "text": [
      "train duplicate rate: 0.369\n"
     ]
    }
   ],
   "source": [
    "dup = [len(df[df.is_duplicate==0]),len(df[df.is_duplicate==1])]\n",
    "dup_rate = 1.0*dup[1]/(dup[0]+dup[1])\n",
    "print(\"train duplicate rate: %.3f\" % dup_rate)"
   ]
  },
  {
   "cell_type": "code",
   "execution_count": 28,
   "metadata": {
    "collapsed": false
   },
   "outputs": [],
   "source": [
    "target_sample = int(dup[0] * 0.212)\n",
    "neg_sample = df[df.is_duplicate==1][:target_sample]\n",
    "pos_sample = df[df.is_duplicate==0]\n",
    "new_df = pd.concat([neg_sample, pos_sample])"
   ]
  },
  {
   "cell_type": "code",
   "execution_count": 30,
   "metadata": {
    "collapsed": false
   },
   "outputs": [
    {
     "name": "stdout",
     "output_type": "stream",
     "text": [
      "train duplicate rate: 0.175\n"
     ]
    }
   ],
   "source": [
    "dup = [len(new_df[new_df.is_duplicate==0]),len(new_df[new_df.is_duplicate==1])]\n",
    "dup_rate = 1.0*dup[1]/(dup[0]+dup[1])\n",
    "print(\"train duplicate rate: %.3f\" % dup_rate)"
   ]
  },
  {
   "cell_type": "markdown",
   "metadata": {},
   "source": [
    "## doing xgboost - again"
   ]
  },
  {
   "cell_type": "code",
   "execution_count": 34,
   "metadata": {
    "collapsed": true
   },
   "outputs": [],
   "source": [
    "X_train, X_test, y_train, y_test = train_test_split(\n",
    "        new_df, new_df['is_duplicate'], test_size=0.2, random_state=42)"
   ]
  },
  {
   "cell_type": "code",
   "execution_count": 31,
   "metadata": {
    "collapsed": false
   },
   "outputs": [],
   "source": [
    "import xgboost as xgb\n",
    "# Set our parameters for xgboost\n",
    "params = {}\n",
    "params['objective'] = 'binary:logistic'\n",
    "params['eval_metric'] = 'logloss'\n",
    "params['eta'] = 0.02\n",
    "params['max_depth'] = 5"
   ]
  },
  {
   "cell_type": "code",
   "execution_count": 32,
   "metadata": {
    "collapsed": true
   },
   "outputs": [],
   "source": [
    "#training_fields = ['tf_nonstop_dist','tfidf_nonstop_dist','tfidf_stop_dist','idf_stop_dist','word_match','tfidf_word_match']\n",
    "training_fields = ['tf_nonstop_dist','tfidf_nonstop_dist','tfidf_stop_dist','idf_stop_dist']\n",
    "#training_fields = ['word_match','tfidf_word_match']"
   ]
  },
  {
   "cell_type": "code",
   "execution_count": 35,
   "metadata": {
    "collapsed": false,
    "scrolled": false
   },
   "outputs": [
    {
     "name": "stdout",
     "output_type": "stream",
     "text": [
      "[0]\ttrain-logloss:0.683158\tvalid-logloss:0.683185\n",
      "Multiple eval metrics have been passed: 'valid-logloss' will be used for early stopping.\n",
      "\n",
      "Will train until valid-logloss hasn't improved in 50 rounds.\n",
      "[10]\ttrain-logloss:0.601867\tvalid-logloss:0.602137\n",
      "[20]\ttrain-logloss:0.544926\tvalid-logloss:0.54539\n",
      "[30]\ttrain-logloss:0.503829\tvalid-logloss:0.504451\n",
      "[40]\ttrain-logloss:0.473508\tvalid-logloss:0.47424\n",
      "[50]\ttrain-logloss:0.450858\tvalid-logloss:0.451712\n",
      "[60]\ttrain-logloss:0.433835\tvalid-logloss:0.434825\n",
      "[70]\ttrain-logloss:0.420843\tvalid-logloss:0.421908\n",
      "[80]\ttrain-logloss:0.410851\tvalid-logloss:0.412002\n",
      "[90]\ttrain-logloss:0.403083\tvalid-logloss:0.404321\n"
     ]
    }
   ],
   "source": [
    "d_train = xgb.DMatrix(X_train[training_fields], label=y_train)\n",
    "d_valid = xgb.DMatrix(X_test[training_fields], label=y_test)\n",
    "watchlist = [(d_train, 'train'), (d_valid, 'valid')]\n",
    "\n",
    "bst = xgb.train(params, d_train, 100, watchlist, early_stopping_rounds=50, verbose_eval=10)"
   ]
  },
  {
   "cell_type": "code",
   "execution_count": 36,
   "metadata": {
    "collapsed": true
   },
   "outputs": [],
   "source": [
    "#training_fields = ['tf_nonstop_dist','tfidf_nonstop_dist','tfidf_stop_dist','idf_stop_dist','word_match','tfidf_word_match']\n",
    "#training_fields = ['tf_nonstop_dist','tfidf_nonstop_dist','tfidf_stop_dist','idf_stop_dist']\n",
    "training_fields = ['word_match','tfidf_word_match']"
   ]
  },
  {
   "cell_type": "code",
   "execution_count": 37,
   "metadata": {
    "collapsed": false,
    "scrolled": false
   },
   "outputs": [
    {
     "name": "stdout",
     "output_type": "stream",
     "text": [
      "[0]\ttrain-logloss:0.682642\tvalid-logloss:0.682682\n",
      "Multiple eval metrics have been passed: 'valid-logloss' will be used for early stopping.\n",
      "\n",
      "Will train until valid-logloss hasn't improved in 50 rounds.\n",
      "[10]\ttrain-logloss:0.597026\tvalid-logloss:0.597412\n",
      "[20]\ttrain-logloss:0.536687\tvalid-logloss:0.537376\n",
      "[30]\ttrain-logloss:0.492651\tvalid-logloss:0.49362\n",
      "[40]\ttrain-logloss:0.459786\tvalid-logloss:0.460999\n",
      "[50]\ttrain-logloss:0.434863\tvalid-logloss:0.436292\n",
      "[60]\ttrain-logloss:0.415741\tvalid-logloss:0.417367\n",
      "[70]\ttrain-logloss:0.400926\tvalid-logloss:0.402726\n",
      "[80]\ttrain-logloss:0.389274\tvalid-logloss:0.391193\n",
      "[90]\ttrain-logloss:0.380149\tvalid-logloss:0.382192\n"
     ]
    }
   ],
   "source": [
    "d_train = xgb.DMatrix(X_train[training_fields], label=y_train)\n",
    "d_valid = xgb.DMatrix(X_test[training_fields], label=y_test)\n",
    "watchlist = [(d_train, 'train'), (d_valid, 'valid')]\n",
    "\n",
    "bst = xgb.train(params, d_train, 100, watchlist, early_stopping_rounds=50, verbose_eval=10)"
   ]
  },
  {
   "cell_type": "code",
   "execution_count": null,
   "metadata": {
    "collapsed": true
   },
   "outputs": [],
   "source": [
    "df = df[['id','is_duplicate','q1_tf_stopwords_vect', 'q2_tf_stopwords_vect', 'q1_tfidf_stopwords_vect', 'q2_tfidf_stopwords_vect']]"
   ]
  },
  {
   "cell_type": "code",
   "execution_count": null,
   "metadata": {
    "collapsed": false
   },
   "outputs": [],
   "source": [
    "df['tfidf_cos_dist'] = old_df['tfidf_stop_dist']\n",
    "df['tf_cos_dist'] = old_df['idf_stop_dist']"
   ]
  },
  {
   "cell_type": "code",
   "execution_count": null,
   "metadata": {
    "collapsed": false
   },
   "outputs": [],
   "source": [
    "df[:3].T"
   ]
  },
  {
   "cell_type": "code",
   "execution_count": null,
   "metadata": {
    "collapsed": false
   },
   "outputs": [],
   "source": [
    "scq1=df.loc[1,'q1_tf_stopwords_vect']\n",
    "scq2=df.loc[1,'q2_tf_stopwords_vect']"
   ]
  },
  {
   "cell_type": "code",
   "execution_count": null,
   "metadata": {
    "collapsed": true
   },
   "outputs": [],
   "source": [
    "def tf_euc_distance(df):\n",
    "    return euclidean_distances(df.q1_tf_stopwords_vect, df.q2_tf_stopwords_vect)[0]\n",
    "\n",
    "def tfidf_euc_distance(df):\n",
    "    return euclidean_distances(df.q1_tfidf_stopwords_vect, df.q2_tfidf_stopwords_vect)[0]"
   ]
  },
  {
   "cell_type": "code",
   "execution_count": null,
   "metadata": {
    "collapsed": false
   },
   "outputs": [],
   "source": [
    "%time df['tf_euc_dist'] = df.apply(tf_euc_distance, axis=1)['id']"
   ]
  },
  {
   "cell_type": "code",
   "execution_count": null,
   "metadata": {
    "collapsed": true
   },
   "outputs": [],
   "source": [
    "df['tfidf_euc_dist'] = df['tf_euc_dist']"
   ]
  },
  {
   "cell_type": "code",
   "execution_count": null,
   "metadata": {
    "collapsed": false
   },
   "outputs": [],
   "source": [
    "df[:3].T"
   ]
  },
  {
   "cell_type": "code",
   "execution_count": null,
   "metadata": {
    "collapsed": false
   },
   "outputs": [],
   "source": [
    "pickle.dump(df, open('df_stop_vect.pickle', 'wb'))"
   ]
  },
  {
   "cell_type": "code",
   "execution_count": null,
   "metadata": {
    "collapsed": true
   },
   "outputs": [],
   "source": []
  }
 ],
 "metadata": {
  "kernelspec": {
   "display_name": "Python 3",
   "language": "python",
   "name": "python3"
  },
  "language_info": {
   "codemirror_mode": {
    "name": "ipython",
    "version": 3
   },
   "file_extension": ".py",
   "mimetype": "text/x-python",
   "name": "python",
   "nbconvert_exporter": "python",
   "pygments_lexer": "ipython3",
   "version": "3.5.2"
  }
 },
 "nbformat": 4,
 "nbformat_minor": 0
}
